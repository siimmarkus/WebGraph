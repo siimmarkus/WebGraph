{
 "cells": [
  {
   "cell_type": "code",
   "id": "initial_id",
   "metadata": {
    "collapsed": true,
    "ExecuteTime": {
     "end_time": "2025-01-05T17:35:30.205391Z",
     "start_time": "2025-01-05T17:35:27.949102Z"
    }
   },
   "source": [
    "import pandas as pd\n",
    "from os import path\n",
    "\n",
    "# Choose ML results directory for semi-manual analysis\n",
    "#directory = \"results-gtm\"\n",
    "#directory = \"results-sgtm\"\n",
    "#directory = \"results-iter1\"\n",
    "#directory = \"results-sgtm-smote\"\n",
    "#directory = \"../out-content/results\"\n",
    "directory = \"results-iter2\"\n",
    "\n",
    "columns = [\"label\", \"prediction\", \"url\", \"visit_id\"]\n",
    "df = None\n",
    "\n",
    "\n",
    "# I ran 10-fold cross validation so there are 10 different files for test data predictions\n",
    "for i in range(10):\n",
    "    # The ML model output files use a weird separator: \" |$| \"\n",
    "    temp_df = pd.read_table(path.join(directory, f\"tp_{i}\"), header=None, sep=\"\\ \\|\\$\\|\\ \", names=columns, engine='python')\n",
    "\n",
    "    if df is None:\n",
    "        df = temp_df\n",
    "    else:\n",
    "        df = pd.concat([df, temp_df])\n"
   ],
   "outputs": [],
   "execution_count": 2
  },
  {
   "metadata": {},
   "cell_type": "markdown",
   "source": "## Input labels analysis",
   "id": "dbe5f1a5312fa47d"
  },
  {
   "metadata": {
    "ExecuteTime": {
     "end_time": "2025-01-03T09:23:23.144775Z",
     "start_time": "2025-01-03T09:23:21.863323Z"
    }
   },
   "cell_type": "code",
   "source": [
    "df_labels = pd.read_csv(\"labelled-sgtm.csv\")\n",
    "df_labels.info()"
   ],
   "id": "e8cdaf86d6bc9def",
   "outputs": [
    {
     "name": "stdout",
     "output_type": "stream",
     "text": [
      "<class 'pandas.core.frame.DataFrame'>\n",
      "RangeIndex: 830553 entries, 0 to 830552\n",
      "Data columns (total 7 columns):\n",
      " #   Column            Non-Null Count   Dtype  \n",
      "---  ------            --------------   -----  \n",
      " 0   Unnamed: 0.1      830553 non-null  int64  \n",
      " 1   Unnamed: 0        830553 non-null  int64  \n",
      " 2   visit_id          830553 non-null  float64\n",
      " 3   top_level_url     830553 non-null  object \n",
      " 4   name              830553 non-null  object \n",
      " 5   braveblock_label  830553 non-null  bool   \n",
      " 6   label             830553 non-null  bool   \n",
      "dtypes: bool(2), float64(1), int64(2), object(2)\n",
      "memory usage: 33.3+ MB\n"
     ]
    }
   ],
   "execution_count": 35
  },
  {
   "metadata": {},
   "cell_type": "markdown",
   "source": [
    "## False Positives analysis\n",
    "We want to check whether our model can find other server-side tracker requests (in addition to GTM)"
   ],
   "id": "317cce3773078afb"
  },
  {
   "metadata": {
    "ExecuteTime": {
     "end_time": "2025-01-03T08:32:30.713905Z",
     "start_time": "2025-01-03T08:32:30.666714Z"
    }
   },
   "cell_type": "code",
   "source": [
    "# False Negatives\n",
    "fn = df[df[\"prediction\"] & ~df[\"label\"]]\n",
    "\n",
    "# Print entire df to file for better readability (can't get Pycharm+jupyter to display df nicely)\n",
    "fn.to_csv(\"temp_df.csv\")\n",
    "fn"
   ],
   "id": "af0306a2cc6fea69",
   "outputs": [
    {
     "data": {
      "text/plain": [
       "       label  prediction                                                url  \\\n",
       "1102   False        True  https://ml314.com/utsync.ashx?pub=&adv=&et=0&e...   \n",
       "1107   False        True  https://www.google.ee/ads/ga-audiences?v=1&t=s...   \n",
       "1111   False        True  https://www.google.ee/ads/ga-audiences?v=1&t=s...   \n",
       "1112   False        True  https://googleads.g.doubleclick.net/pagead/vie...   \n",
       "1113   False        True  https://googleads.g.doubleclick.net/pagead/vie...   \n",
       "...      ...         ...                                                ...   \n",
       "67583  False        True  https://ingest.quantummetric.com/horizon/lumen...   \n",
       "67584  False        True  https://ingest.quantummetric.com/horizon/lumen...   \n",
       "67858  False        True  https://sb.scorecardresearch.com/b?c1=2&c2=690...   \n",
       "67859  False        True  https://sb.scorecardresearch.com/b?c1=2&c2=690...   \n",
       "68153  False        True  https://s4i.histats.com/stats/i/4600141.gif?46...   \n",
       "\n",
       "               visit_id  \n",
       "1102     65860553664439  \n",
       "1107     65860553664439  \n",
       "1111     65860553664439  \n",
       "1112     65860553664439  \n",
       "1113     65860553664439  \n",
       "...                 ...  \n",
       "67583  8792294440948776  \n",
       "67584  8792294440948776  \n",
       "67858  8889417237623677  \n",
       "67859  8889417237623677  \n",
       "68153  8945335089380096  \n",
       "\n",
       "[2054 rows x 4 columns]"
      ],
      "text/html": [
       "<div>\n",
       "<style scoped>\n",
       "    .dataframe tbody tr th:only-of-type {\n",
       "        vertical-align: middle;\n",
       "    }\n",
       "\n",
       "    .dataframe tbody tr th {\n",
       "        vertical-align: top;\n",
       "    }\n",
       "\n",
       "    .dataframe thead th {\n",
       "        text-align: right;\n",
       "    }\n",
       "</style>\n",
       "<table border=\"1\" class=\"dataframe\">\n",
       "  <thead>\n",
       "    <tr style=\"text-align: right;\">\n",
       "      <th></th>\n",
       "      <th>label</th>\n",
       "      <th>prediction</th>\n",
       "      <th>url</th>\n",
       "      <th>visit_id</th>\n",
       "    </tr>\n",
       "  </thead>\n",
       "  <tbody>\n",
       "    <tr>\n",
       "      <th>1102</th>\n",
       "      <td>False</td>\n",
       "      <td>True</td>\n",
       "      <td>https://ml314.com/utsync.ashx?pub=&amp;adv=&amp;et=0&amp;e...</td>\n",
       "      <td>65860553664439</td>\n",
       "    </tr>\n",
       "    <tr>\n",
       "      <th>1107</th>\n",
       "      <td>False</td>\n",
       "      <td>True</td>\n",
       "      <td>https://www.google.ee/ads/ga-audiences?v=1&amp;t=s...</td>\n",
       "      <td>65860553664439</td>\n",
       "    </tr>\n",
       "    <tr>\n",
       "      <th>1111</th>\n",
       "      <td>False</td>\n",
       "      <td>True</td>\n",
       "      <td>https://www.google.ee/ads/ga-audiences?v=1&amp;t=s...</td>\n",
       "      <td>65860553664439</td>\n",
       "    </tr>\n",
       "    <tr>\n",
       "      <th>1112</th>\n",
       "      <td>False</td>\n",
       "      <td>True</td>\n",
       "      <td>https://googleads.g.doubleclick.net/pagead/vie...</td>\n",
       "      <td>65860553664439</td>\n",
       "    </tr>\n",
       "    <tr>\n",
       "      <th>1113</th>\n",
       "      <td>False</td>\n",
       "      <td>True</td>\n",
       "      <td>https://googleads.g.doubleclick.net/pagead/vie...</td>\n",
       "      <td>65860553664439</td>\n",
       "    </tr>\n",
       "    <tr>\n",
       "      <th>...</th>\n",
       "      <td>...</td>\n",
       "      <td>...</td>\n",
       "      <td>...</td>\n",
       "      <td>...</td>\n",
       "    </tr>\n",
       "    <tr>\n",
       "      <th>67583</th>\n",
       "      <td>False</td>\n",
       "      <td>True</td>\n",
       "      <td>https://ingest.quantummetric.com/horizon/lumen...</td>\n",
       "      <td>8792294440948776</td>\n",
       "    </tr>\n",
       "    <tr>\n",
       "      <th>67584</th>\n",
       "      <td>False</td>\n",
       "      <td>True</td>\n",
       "      <td>https://ingest.quantummetric.com/horizon/lumen...</td>\n",
       "      <td>8792294440948776</td>\n",
       "    </tr>\n",
       "    <tr>\n",
       "      <th>67858</th>\n",
       "      <td>False</td>\n",
       "      <td>True</td>\n",
       "      <td>https://sb.scorecardresearch.com/b?c1=2&amp;c2=690...</td>\n",
       "      <td>8889417237623677</td>\n",
       "    </tr>\n",
       "    <tr>\n",
       "      <th>67859</th>\n",
       "      <td>False</td>\n",
       "      <td>True</td>\n",
       "      <td>https://sb.scorecardresearch.com/b?c1=2&amp;c2=690...</td>\n",
       "      <td>8889417237623677</td>\n",
       "    </tr>\n",
       "    <tr>\n",
       "      <th>68153</th>\n",
       "      <td>False</td>\n",
       "      <td>True</td>\n",
       "      <td>https://s4i.histats.com/stats/i/4600141.gif?46...</td>\n",
       "      <td>8945335089380096</td>\n",
       "    </tr>\n",
       "  </tbody>\n",
       "</table>\n",
       "<p>2054 rows × 4 columns</p>\n",
       "</div>"
      ]
     },
     "execution_count": 2,
     "metadata": {},
     "output_type": "execute_result"
    }
   ],
   "execution_count": 2
  },
  {
   "metadata": {},
   "cell_type": "markdown",
   "source": "## All Server-side GTM predictions",
   "id": "aa06d51f89417514"
  },
  {
   "metadata": {
    "ExecuteTime": {
     "end_time": "2025-01-05T17:36:26.555319Z",
     "start_time": "2025-01-05T17:36:25.519060Z"
    }
   },
   "cell_type": "code",
   "source": [
    "def is_google(df):\n",
    "    \"\"\" Check that request is not going to a google tracking domain. \"\"\"\n",
    "\n",
    "    google_domains = ['region1.google-analytics.com', 'region1.analytics.google.com', 'stats.g.doubleclick.net', 'www.google-analytics.com', 'analytics.google.com']\n",
    "    values = df[\"url\"].str.contains(\"|\".join(google_domains), regex=True)\n",
    "    return values\n",
    "\n",
    "df_sgtm = df[df[\"url\"].str.contains('/g/collect') & ~ is_google(df)]\n",
    "#df_sgtm.to_csv(\"temp_df.csv\")"
   ],
   "id": "c02c3dd4212a4019",
   "outputs": [],
   "execution_count": 7
  },
  {
   "metadata": {
    "ExecuteTime": {
     "end_time": "2025-01-03T08:32:32.651565Z",
     "start_time": "2025-01-03T08:32:32.642589Z"
    }
   },
   "cell_type": "code",
   "source": "df_sgtm[\"prediction\"].value_counts()",
   "id": "31c93963a71c9252",
   "outputs": [
    {
     "data": {
      "text/plain": [
       "prediction\n",
       "False    162\n",
       "True       2\n",
       "Name: count, dtype: int64"
      ]
     },
     "execution_count": 4,
     "metadata": {},
     "output_type": "execute_result"
    }
   ],
   "execution_count": 4
  },
  {
   "metadata": {},
   "cell_type": "markdown",
   "source": [
    "## Aggregated statistics\n",
    "The WebGraph ML model outputs"
   ],
   "id": "85ffb09f50c6625f"
  },
  {
   "metadata": {
    "ExecuteTime": {
     "end_time": "2025-01-03T14:39:45.848864Z",
     "start_time": "2025-01-03T14:39:23.071543Z"
    }
   },
   "cell_type": "code",
   "source": [
    "from sklearn.metrics import classification_report, accuracy_score, confusion_matrix\n",
    "import os\n",
    "\n",
    "\n",
    "# All WebGraph ML results folders should be named like \"results-*\" to make scripted analysis easier\n",
    "result_dirs  = [ f.name for f in os.scandir(\".\") if f.is_dir() and f.name.startswith(\"results-\") ]\n",
    "\n",
    "df_dict = {}\n",
    "for dirname in result_dirs:\n",
    "    # Skip unfinished ML jobs\n",
    "    if not os.path.isfile(os.path.join(dirname, \"tp_9\")):\n",
    "        continue\n",
    "\n",
    "    columns = [\"label\", \"prediction\", \"url\", \"visit_id\"]\n",
    "    df = None\n",
    "\n",
    "    # I ran 10-fold cross validation so there are 10 different files for test data predictions\n",
    "    for i in range(10):\n",
    "        # Memory footprint of one full df is ~150MB\n",
    "        temp_df = pd.read_table(path.join(dirname, f\"tp_{i}\"), header=None, sep=\"\\ \\|\\$\\|\\ \", names=columns, engine='python')\n",
    "        # Memory footprint for only labels and predictions is ~6MB\n",
    "        #temp_df = pd.read_table(path.join(dirname, f\"tp_{i}\"), header=None, sep=\"\\ \\|\\$\\|\\ \", names=columns, engine='python', usecols=[\"label\", \"prediction\"])\n",
    "\n",
    "        if df is None:\n",
    "            df = temp_df\n",
    "        else:\n",
    "            df = pd.concat([df, temp_df])\n",
    "\n",
    "    df[\"sgtm\"] = df[\"url\"].str.contains('/g/collect') & ~ is_google(df)\n",
    "    df_dict[dirname] = df.copy()\n",
    "\n",
    "memory_footprints = [df.memory_usage(index=True,deep=True).sum() for df in df_dict.values()]\n",
    "print(f\"Memory use of loaded DataFrames {round(sum(memory_footprints)/1000000,2)}MB (avg {round(sum(memory_footprints)/len(memory_footprints)/1000000,2)}MB per df)\")\n"
   ],
   "id": "44b1e08b2dc3a62e",
   "outputs": [
    {
     "name": "stdout",
     "output_type": "stream",
     "text": [
      "Memory use of loaded DataFrames 1080.8MB (avg 154.4MB per df)\n"
     ]
    }
   ],
   "execution_count": 36
  },
  {
   "metadata": {
    "ExecuteTime": {
     "end_time": "2025-01-03T14:39:48.798009Z",
     "start_time": "2025-01-03T14:39:45.858735Z"
    }
   },
   "cell_type": "code",
   "source": [
    "def report_to_latex(report, table_name):\n",
    "    \"\"\" Parse sklearn.metrics.classification_report into a latex table.\n",
    "\n",
    "    Code adapted from: https://gist.github.com/Lorenzoantonelli/40454798ae53386a1d5b9c8bb60664d5\n",
    "    \"\"\"\n",
    "\n",
    "    if report[0] == '\\n':\n",
    "        report = report[1:]\n",
    "    if report[-1] == '\\n':\n",
    "        report = report[:-1]\n",
    "\n",
    "    lines = report.split('\\n')\n",
    "\n",
    "    header = [\"\\\\begin{table}\",\n",
    "              f\"\\\\caption{{Classification Report for {table_name}}}\",\n",
    "              f\"\\\\label{{table:classification:{table_name}}}\",\n",
    "              \"\\\\centering\",\n",
    "              \"\\\\begin{tabular}{r r r r r}\",\n",
    "              \"& Precision & Recall & F-score & Support\",\n",
    "              \"\\\\\\\\\"]\n",
    "\n",
    "    body = []\n",
    "    for line in lines[2:-4]:\n",
    "        row = line.split()\n",
    "        if len(row) == 5:\n",
    "            body.append(\" & \".join(row) + \"\\\\\\\\\")\n",
    "\n",
    "    body.append(\"\\\\\\\\\")\n",
    "\n",
    "    footer = []\n",
    "    for line in lines[-3:]:\n",
    "        row = line.split()\n",
    "        if len(row) == 3:\n",
    "            footer.append(\"{} & & & {} & {}\\\\\\\\\".format(*row))\n",
    "        elif len(row) == 6:\n",
    "            footer.append(\"{} {} & {} & {} & {} & {}\\\\\\\\\".format(*row))\n",
    "\n",
    "    footer.extend([\"\\\\end{tabular}\", \"\\\\end{table}\"])\n",
    "\n",
    "    latex_table = '\\n'.join(header + body + footer)\n",
    "\n",
    "    return latex_table\n",
    "\n",
    "\n",
    "for dirname, df in df_dict.items():\n",
    "    print(\"#######################################################################################################################################\")\n",
    "    print(dirname)\n",
    "    results = classification_report(y_true=df[\"label\"].to_numpy(), y_pred=df[\"prediction\"].to_numpy())\n",
    "\n",
    "    # Uncomment either of the following lines to get results as nicely formated string or latex\n",
    "    #print(results)\n",
    "    print(report_to_latex(results, dirname))"
   ],
   "id": "1a4d954535203efb",
   "outputs": [
    {
     "name": "stdout",
     "output_type": "stream",
     "text": [
      "#######################################################################################################################################\n",
      "results-sgtm-smote\n",
      "\\begin{table}\n",
      "\\caption{Classification Report for results-sgtm-smote}\n",
      "\\label{table:classification:results-sgtm-smote}\n",
      "\\centering\n",
      "\\begin{tabular}{r r r r r}\n",
      "& Precision & Recall & F-score & Support\n",
      "\\\\\n",
      "False & 1.00 & 1.00 & 1.00 & 678328\\\\\n",
      "True & 0.52 & 0.16 & 0.24 & 164\\\\\n",
      "\\\\\n",
      "accuracy & & & 1.00 & 678492\\\\\n",
      "macro avg & 0.76 & 0.58 & 0.62 & 678492\\\\\n",
      "weighted avg & 1.00 & 1.00 & 1.00 & 678492\\\\\n",
      "\\end{tabular}\n",
      "\\end{table}\n",
      "#######################################################################################################################################\n",
      "results-sgtm-downsample\n",
      "\\begin{table}\n",
      "\\caption{Classification Report for results-sgtm-downsample}\n",
      "\\label{table:classification:results-sgtm-downsample}\n",
      "\\centering\n",
      "\\begin{tabular}{r r r r r}\n",
      "& Precision & Recall & F-score & Support\n",
      "\\\\\n",
      "False & 1.00 & 0.18 & 0.31 & 678340\\\\\n",
      "True & 0.00 & 0.98 & 0.00 & 164\\\\\n",
      "\\\\\n",
      "accuracy & & & 0.18 & 678504\\\\\n",
      "macro avg & 0.50 & 0.58 & 0.15 & 678504\\\\\n",
      "weighted avg & 1.00 & 0.18 & 0.31 & 678504\\\\\n",
      "\\end{tabular}\n",
      "\\end{table}\n",
      "#######################################################################################################################################\n",
      "results-gtm\n",
      "\\begin{table}\n",
      "\\caption{Classification Report for results-gtm}\n",
      "\\label{table:classification:results-gtm}\n",
      "\\centering\n",
      "\\begin{tabular}{r r r r r}\n",
      "& Precision & Recall & F-score & Support\n",
      "\\\\\n",
      "False & 0.99 & 1.00 & 1.00 & 765544\\\\\n",
      "True & 0.59 & 0.32 & 0.42 & 6478\\\\\n",
      "\\\\\n",
      "accuracy & & & 0.99 & 772022\\\\\n",
      "macro avg & 0.79 & 0.66 & 0.71 & 772022\\\\\n",
      "weighted avg & 0.99 & 0.99 & 0.99 & 772022\\\\\n",
      "\\end{tabular}\n",
      "\\end{table}\n",
      "#######################################################################################################################################\n",
      "results-sgtm\n",
      "\\begin{table}\n",
      "\\caption{Classification Report for results-sgtm}\n",
      "\\label{table:classification:results-sgtm}\n",
      "\\centering\n",
      "\\begin{tabular}{r r r r r}\n",
      "& Precision & Recall & F-score & Support\n",
      "\\\\\n",
      "False & 1.00 & 1.00 & 1.00 & 678163\\\\\n",
      "True & 1.00 & 0.02 & 0.05 & 164\\\\\n",
      "\\\\\n",
      "accuracy & & & 1.00 & 678327\\\\\n",
      "macro avg & 1.00 & 0.51 & 0.52 & 678327\\\\\n",
      "weighted avg & 1.00 & 1.00 & 1.00 & 678327\\\\\n",
      "\\end{tabular}\n",
      "\\end{table}\n",
      "#######################################################################################################################################\n",
      "results-iter2-smote\n",
      "\\begin{table}\n",
      "\\caption{Classification Report for results-iter2-smote}\n",
      "\\label{table:classification:results-iter2-smote}\n",
      "\\centering\n",
      "\\begin{tabular}{r r r r r}\n",
      "& Precision & Recall & F-score & Support\n",
      "\\\\\n",
      "False & 1.00 & 0.99 & 0.99 & 670100\\\\\n",
      "True & 0.44 & 0.61 & 0.51 & 8305\\\\\n",
      "\\\\\n",
      "accuracy & & & 0.99 & 678405\\\\\n",
      "macro avg & 0.72 & 0.80 & 0.75 & 678405\\\\\n",
      "weighted avg & 0.99 & 0.99 & 0.99 & 678405\\\\\n",
      "\\end{tabular}\n",
      "\\end{table}\n",
      "#######################################################################################################################################\n",
      "results-iter1\n",
      "\\begin{table}\n",
      "\\caption{Classification Report for results-iter1}\n",
      "\\label{table:classification:results-iter1}\n",
      "\\centering\n",
      "\\begin{tabular}{r r r r r}\n",
      "& Precision & Recall & F-score & Support\n",
      "\\\\\n",
      "False & 0.99 & 1.00 & 1.00 & 671491\\\\\n",
      "True & 0.67 & 0.49 & 0.57 & 7070\\\\\n",
      "\\\\\n",
      "accuracy & & & 0.99 & 678561\\\\\n",
      "macro avg & 0.83 & 0.74 & 0.78 & 678561\\\\\n",
      "weighted avg & 0.99 & 0.99 & 0.99 & 678561\\\\\n",
      "\\end{tabular}\n",
      "\\end{table}\n",
      "#######################################################################################################################################\n",
      "results-iter2\n",
      "\\begin{table}\n",
      "\\caption{Classification Report for results-iter2}\n",
      "\\label{table:classification:results-iter2}\n",
      "\\centering\n",
      "\\begin{tabular}{r r r r r}\n",
      "& Precision & Recall & F-score & Support\n",
      "\\\\\n",
      "False & 0.99 & 1.00 & 1.00 & 670057\\\\\n",
      "True & 0.68 & 0.52 & 0.59 & 8308\\\\\n",
      "\\\\\n",
      "accuracy & & & 0.99 & 678365\\\\\n",
      "macro avg & 0.84 & 0.76 & 0.79 & 678365\\\\\n",
      "weighted avg & 0.99 & 0.99 & 0.99 & 678365\\\\\n",
      "\\end{tabular}\n",
      "\\end{table}\n"
     ]
    }
   ],
   "execution_count": 37
  },
  {
   "metadata": {},
   "cell_type": "markdown",
   "source": [
    "## Adblocking performance: GTM vs SGTM\n",
    "We want to assess the performance of EasyList and WebGraph on detecting GTM and SGTM requests"
   ],
   "id": "789247f174c8e9a3"
  },
  {
   "metadata": {
    "ExecuteTime": {
     "end_time": "2025-01-05T17:41:53.291969Z",
     "start_time": "2025-01-05T17:41:49.592135Z"
    }
   },
   "cell_type": "code",
   "source": [
    "df_labels = pd.read_csv(\"labelled.csv\")\n",
    "df_labels.rename(columns={\"name\": \"url\"}, inplace=True)\n",
    "df_labels[\"sgtm\"] = df_labels[\"url\"].str.contains('/g/collect') & ~ is_google(df_labels)\n",
    "df_labels[\"regular_gtm\"] = df_labels[\"url\"].str.contains('/g/collect') & is_google(df_labels)"
   ],
   "id": "160f8081dae7a0ae",
   "outputs": [],
   "execution_count": 18
  },
  {
   "metadata": {
    "ExecuteTime": {
     "end_time": "2025-01-05T17:51:44.144381Z",
     "start_time": "2025-01-05T17:51:44.127385Z"
    }
   },
   "cell_type": "code",
   "source": [
    "total_gtm = len(df_labels[df_labels[\"regular_gtm\"] & df_labels[\"label\"]])\n",
    "total_sgtm = len(df_labels[df_labels[\"sgtm\"] & df_labels[\"label\"]])\n",
    "\n",
    "detected_gtm_brave = len(df_labels[df_labels[\"regular_gtm\"] & df_labels[\"label\"] & df_labels[\"braveblock_label\"]])\n",
    "detected_sgtm_brave = len(df_labels[df_labels[\"sgtm\"] & df_labels[\"label\"] & df_labels[\"braveblock_label\"]])\n",
    "\n",
    "gtm_brave_percentage = round(detected_gtm_brave / total_gtm * 100, 2)\n",
    "sgtm_brave_percentage = round(detected_sgtm_brave / total_sgtm * 100, 2)\n",
    "\n",
    "print(total_sgtm, total_gtm, detected_sgtm_brave, detected_gtm_brave)"
   ],
   "id": "4584b2ebe51ecf25",
   "outputs": [
    {
     "name": "stdout",
     "output_type": "stream",
     "text": [
      "203 6813 10 6813\n"
     ]
    }
   ],
   "execution_count": 34
  },
  {
   "metadata": {
    "ExecuteTime": {
     "end_time": "2025-01-05T17:59:31.531292Z",
     "start_time": "2025-01-05T17:59:31.401038Z"
    }
   },
   "cell_type": "code",
   "source": [
    "import matplotlib.pyplot as plt\n",
    "import numpy as np\n",
    "\n",
    "species = (\"GTM\", \"SGTM\")\n",
    "penguin_means = {\n",
    "    'EasyList': (gtm_brave_percentage, sgtm_brave_percentage),\n",
    "    'WebGraph': (20, 5),\n",
    "}\n",
    "\n",
    "x = np.arange(len(species))  # the label locations\n",
    "width = 0.25  # the width of the bars\n",
    "multiplier = 0\n",
    "\n",
    "fig, ax = plt.subplots(layout='constrained')\n",
    "\n",
    "for attribute, measurement in penguin_means.items():\n",
    "    offset = width * multiplier\n",
    "    rects = ax.bar(x + offset, measurement, width, label=attribute)\n",
    "    ax.bar_label(rects, padding=3)\n",
    "    multiplier += 1\n",
    "\n",
    "# Add some text for labels, title and custom x-axis tick labels, etc.\n",
    "ax.set_ylabel('Detection percentage')\n",
    "ax.set_title('Adblocker performance')\n",
    "ax.set_xticks(x + width/2, species)\n",
    "ax.legend(loc='upper right', ncols=2)\n",
    "ax.set_ylim(0, 110)\n",
    "\n",
    "plt.show()"
   ],
   "id": "8e50f1d109853c3d",
   "outputs": [
    {
     "data": {
      "text/plain": [
       "<Figure size 640x480 with 1 Axes>"
      ],
      "image/png": "[encoded data removed]"
     },
     "metadata": {},
     "output_type": "display_data"
    }
   ],
   "execution_count": 48
  }
 ],
 "metadata": {
  "kernelspec": {
   "display_name": "Python 3",
   "language": "python",
   "name": "python3"
  },
  "language_info": {
   "codemirror_mode": {
    "name": "ipython",
    "version": 2
   },
   "file_extension": ".py",
   "mimetype": "text/x-python",
   "name": "python",
   "nbconvert_exporter": "python",
   "pygments_lexer": "ipython2",
   "version": "2.7.6"
  }
 },
 "nbformat": 4,
 "nbformat_minor": 5
}
