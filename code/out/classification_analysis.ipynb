{
 "cells": [
  {
   "cell_type": "code",
   "id": "initial_id",
   "metadata": {
    "collapsed": true,
    "ExecuteTime": {
     "end_time": "2024-12-31T17:39:25.613136Z",
     "start_time": "2024-12-31T17:39:23.366457Z"
    }
   },
   "source": [
    "import pandas as pd\n",
    "from os import path\n",
    "\n",
    "#directory = \"results-gtm\"\n",
    "directory = \"results-sgtm\"\n",
    "#directory = \"results-iter1\"\n",
    "columns = [\"label\", \"prediction\", \"url\", \"visit_id\"]\n",
    "df = None\n",
    "\n",
    "\n",
    "# I ran 10-fold cross validation so there are 10 different files for test data predictions\n",
    "for i in range(10):\n",
    "    # The ML model output files use a weird separator: \" |$| \"\n",
    "    temp_df = pd.read_table(path.join(directory, f\"tp_{i}\"), header=None, sep=\"\\ \\|\\$\\|\\ \", names=columns)\n",
    "\n",
    "    if df is None:\n",
    "        df = temp_df\n",
    "    else:\n",
    "        df = pd.concat([df, temp_df])\n"
   ],
   "outputs": [
    {
     "name": "stderr",
     "output_type": "stream",
     "text": [
      "/home/siim/WebGraph/.venv/lib/python3.9/site-packages/pandas/util/_decorators.py:311: ParserWarning: Falling back to the 'python' engine because the 'c' engine does not support regex separators (separators > 1 char and different from '\\s+' are interpreted as regex); you can avoid this warning by specifying engine='python'.\n",
      "  return func(*args, **kwargs)\n"
     ]
    }
   ],
   "execution_count": 20
  },
  {
   "metadata": {
    "ExecuteTime": {
     "end_time": "2024-12-31T17:23:10.873522Z",
     "start_time": "2024-12-31T17:23:10.867338Z"
    }
   },
   "cell_type": "code",
   "source": [
    "fn = df[df[\"prediction\"] & ~df[\"label\"]] #.to_csv(\"temp_df.csv\")\n",
    "#fn = df[df[\"prediction\"] & ~df[\"label\"] & df[\"url\"].str.contains(\"/j/collect\") ] #.to_csv(\"temp_df.csv\")"
   ],
   "id": "af0306a2cc6fea69",
   "outputs": [],
   "execution_count": 11
  },
  {
   "metadata": {
    "ExecuteTime": {
     "end_time": "2024-12-31T17:23:10.932611Z",
     "start_time": "2024-12-31T17:23:10.915079Z"
    }
   },
   "cell_type": "code",
   "source": [
    "from IPython.core.display_functions import display\n",
    "\n",
    "fn.to_csv(\"temp_df.csv\")"
   ],
   "id": "5f7062d128230b6b",
   "outputs": [],
   "execution_count": 12
  },
  {
   "metadata": {
    "ExecuteTime": {
     "end_time": "2024-12-31T17:49:41.231008Z",
     "start_time": "2024-12-31T17:49:40.094153Z"
    }
   },
   "cell_type": "code",
   "source": [
    "def is_google(df):\n",
    "    google_domains = ['region1.google-analytics.com', 'region1.analytics.google.com', 'stats.g.doubleclick.net', 'www.google-analytics.com', 'analytics.google.com']\n",
    "    values = df[\"url\"].str.contains(\"|\".join(google_domains), regex=True)\n",
    "    return values\n",
    "\n",
    "df_sgtm = df[df[\"url\"].str.contains('/g/collect') & ~ is_google(df)]\n",
    "df_sgtm.to_csv(\"temp_df.csv\")"
   ],
   "id": "c02c3dd4212a4019",
   "outputs": [
    {
     "ename": "AttributeError",
     "evalue": "'Series' object has no attribute 'values_count'",
     "output_type": "error",
     "traceback": [
      "\u001B[0;31m---------------------------------------------------------------------------\u001B[0m",
      "\u001B[0;31mAttributeError\u001B[0m                            Traceback (most recent call last)",
      "\u001B[0;32m/tmp/ipykernel_1992234/204036205.py\u001B[0m in \u001B[0;36m?\u001B[0;34m()\u001B[0m\n\u001B[0;32m----> 8\u001B[0;31m \u001B[0;32mdef\u001B[0m \u001B[0mis_google\u001B[0m\u001B[0;34m(\u001B[0m\u001B[0mdf\u001B[0m\u001B[0;34m)\u001B[0m\u001B[0;34m:\u001B[0m\u001B[0;34m\u001B[0m\u001B[0;34m\u001B[0m\u001B[0m\n\u001B[0m\u001B[1;32m      9\u001B[0m     \u001B[0mgoogle_domains\u001B[0m \u001B[0;34m=\u001B[0m \u001B[0;34m[\u001B[0m\u001B[0;34m'region1.google-analytics.com'\u001B[0m\u001B[0;34m,\u001B[0m \u001B[0;34m'region1.analytics.google.com'\u001B[0m\u001B[0;34m,\u001B[0m \u001B[0;34m'stats.g.doubleclick.net'\u001B[0m\u001B[0;34m,\u001B[0m \u001B[0;34m'www.google-analytics.com'\u001B[0m\u001B[0;34m,\u001B[0m \u001B[0;34m'analytics.google.com'\u001B[0m\u001B[0;34m]\u001B[0m\u001B[0;34m\u001B[0m\u001B[0;34m\u001B[0m\u001B[0m\n\u001B[1;32m     10\u001B[0m     \u001B[0mvalues\u001B[0m \u001B[0;34m=\u001B[0m \u001B[0mdf\u001B[0m\u001B[0;34m[\u001B[0m\u001B[0;34m\"url\"\u001B[0m\u001B[0;34m]\u001B[0m\u001B[0;34m.\u001B[0m\u001B[0mstr\u001B[0m\u001B[0;34m.\u001B[0m\u001B[0mcontains\u001B[0m\u001B[0;34m(\u001B[0m\u001B[0;34m\"|\"\u001B[0m\u001B[0;34m.\u001B[0m\u001B[0mjoin\u001B[0m\u001B[0;34m(\u001B[0m\u001B[0mgoogle_domains\u001B[0m\u001B[0;34m)\u001B[0m\u001B[0;34m,\u001B[0m \u001B[0mregex\u001B[0m\u001B[0;34m=\u001B[0m\u001B[0;32mTrue\u001B[0m\u001B[0;34m)\u001B[0m\u001B[0;34m\u001B[0m\u001B[0;34m\u001B[0m\u001B[0m\n\u001B[1;32m     11\u001B[0m     \u001B[0;32mreturn\u001B[0m \u001B[0mvalues\u001B[0m\u001B[0;34m\u001B[0m\u001B[0;34m\u001B[0m\u001B[0m\n",
      "\u001B[0;32m~/WebGraph/.venv/lib/python3.9/site-packages/pandas/core/generic.py\u001B[0m in \u001B[0;36m?\u001B[0;34m(self, name)\u001B[0m\n\u001B[1;32m   5474\u001B[0m             \u001B[0;32mand\u001B[0m \u001B[0mname\u001B[0m \u001B[0;32mnot\u001B[0m \u001B[0;32min\u001B[0m \u001B[0mself\u001B[0m\u001B[0;34m.\u001B[0m\u001B[0m_accessors\u001B[0m\u001B[0;34m\u001B[0m\u001B[0;34m\u001B[0m\u001B[0m\n\u001B[1;32m   5475\u001B[0m             \u001B[0;32mand\u001B[0m \u001B[0mself\u001B[0m\u001B[0;34m.\u001B[0m\u001B[0m_info_axis\u001B[0m\u001B[0;34m.\u001B[0m\u001B[0m_can_hold_identifiers_and_holds_name\u001B[0m\u001B[0;34m(\u001B[0m\u001B[0mname\u001B[0m\u001B[0;34m)\u001B[0m\u001B[0;34m\u001B[0m\u001B[0;34m\u001B[0m\u001B[0m\n\u001B[1;32m   5476\u001B[0m         ):\n\u001B[1;32m   5477\u001B[0m             \u001B[0;32mreturn\u001B[0m \u001B[0mself\u001B[0m\u001B[0;34m[\u001B[0m\u001B[0mname\u001B[0m\u001B[0;34m]\u001B[0m\u001B[0;34m\u001B[0m\u001B[0;34m\u001B[0m\u001B[0m\n\u001B[0;32m-> 5478\u001B[0;31m         \u001B[0;32mreturn\u001B[0m \u001B[0mobject\u001B[0m\u001B[0;34m.\u001B[0m\u001B[0m__getattribute__\u001B[0m\u001B[0;34m(\u001B[0m\u001B[0mself\u001B[0m\u001B[0;34m,\u001B[0m \u001B[0mname\u001B[0m\u001B[0;34m)\u001B[0m\u001B[0;34m\u001B[0m\u001B[0;34m\u001B[0m\u001B[0m\n\u001B[0m",
      "\u001B[0;31mAttributeError\u001B[0m: 'Series' object has no attribute 'values_count'"
     ]
    }
   ],
   "execution_count": 27
  },
  {
   "metadata": {
    "ExecuteTime": {
     "end_time": "2024-12-31T17:50:51.750203Z",
     "start_time": "2024-12-31T17:50:51.744499Z"
    }
   },
   "cell_type": "code",
   "source": "df_sgtm[\"prediction\"].value_counts()\n",
   "id": "31c93963a71c9252",
   "outputs": [
    {
     "data": {
      "text/plain": [
       "False    160\n",
       "True       4\n",
       "Name: prediction, dtype: int64"
      ]
     },
     "execution_count": 30,
     "metadata": {},
     "output_type": "execute_result"
    }
   ],
   "execution_count": 30
  }
 ],
 "metadata": {
  "kernelspec": {
   "display_name": "Python 3",
   "language": "python",
   "name": "python3"
  },
  "language_info": {
   "codemirror_mode": {
    "name": "ipython",
    "version": 2
   },
   "file_extension": ".py",
   "mimetype": "text/x-python",
   "name": "python",
   "nbconvert_exporter": "python",
   "pygments_lexer": "ipython2",
   "version": "2.7.6"
  }
 },
 "nbformat": 4,
 "nbformat_minor": 5
}
