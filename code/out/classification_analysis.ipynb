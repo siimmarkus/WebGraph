{
 "cells": [
  {
   "cell_type": "code",
   "id": "initial_id",
   "metadata": {
    "collapsed": true,
    "ExecuteTime": {
     "end_time": "2024-12-30T17:58:42.227127Z",
     "start_time": "2024-12-30T17:58:41.971157Z"
    }
   },
   "source": [
    "import pandas as pd\n",
    "\n",
    "columns = [\"label\", \"prediction\", \"url\", \"visit_id\"]\n",
    "df = pd.read_table(\"results-gtm/tp_0\", header=None, sep=\"\\ \\|\\$\\|\\ \", names=columns)\n"
   ],
   "outputs": [
    {
     "name": "stderr",
     "output_type": "stream",
     "text": [
      "/home/siim/WebGraph/.venv/lib/python3.9/site-packages/pandas/util/_decorators.py:311: ParserWarning: Falling back to the 'python' engine because the 'c' engine does not support regex separators (separators > 1 char and different from '\\s+' are interpreted as regex); you can avoid this warning by specifying engine='python'.\n",
      "  return func(*args, **kwargs)\n"
     ]
    }
   ],
   "execution_count": 12
  },
  {
   "metadata": {
    "ExecuteTime": {
     "end_time": "2024-12-30T18:04:10.954436Z",
     "start_time": "2024-12-30T18:04:10.946108Z"
    }
   },
   "cell_type": "code",
   "source": "df[df[\"prediction\"] & ~df[\"label\"]].to_csv(\"temp_df.csv\")",
   "id": "af0306a2cc6fea69",
   "outputs": [],
   "execution_count": 15
  }
 ],
 "metadata": {
  "kernelspec": {
   "display_name": "Python 3",
   "language": "python",
   "name": "python3"
  },
  "language_info": {
   "codemirror_mode": {
    "name": "ipython",
    "version": 2
   },
   "file_extension": ".py",
   "mimetype": "text/x-python",
   "name": "python",
   "nbconvert_exporter": "python",
   "pygments_lexer": "ipython2",
   "version": "2.7.6"
  }
 },
 "nbformat": 4,
 "nbformat_minor": 5
}
